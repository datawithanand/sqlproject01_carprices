{
 "metadata": {
  "kernelspec": {
   "display_name": "Streamlit Notebook",
   "name": "streamlit"
  },
  "lastEditStatus": {
   "notebookId": "fe7lm5vek2dj4dux2pti",
   "authorId": "3158684672522",
   "authorName": "ANANDSURESH",
   "authorEmail": "anandsuresh05@gmail.com",
   "sessionId": "28c8b19e-6dcf-438e-b5ad-57084e3b275d",
   "lastEditTime": 1758503003841
  }
 },
 "nbformat_minor": 5,
 "nbformat": 4,
 "cells": [
  {
   "cell_type": "markdown",
   "id": "de8f4906-75ee-4c64-b5b2-918a987e7c2b",
   "metadata": {
    "name": "project_description",
    "collapsed": false
   },
   "source": "### Automotive Sales Data Analysis Project\n\n- Analyze automotive sales data to understand car pricing, trends, and market behavior. \n- Use SQL to clean, aggregate, and explore the dataset, answering questions like average selling price by make/model, condition vs. price, regional sales trends, and date-based patterns. \n- Builds practical SQL skills while simulating real industry analysis."
  },
  {
   "cell_type": "code",
   "id": "01f69c60-0a2d-4101-8e33-71f7b39693be",
   "metadata": {
    "language": "sql",
    "name": "_01_avg_selling_price",
    "collapsed": false,
    "codeCollapsed": false
   },
   "outputs": [],
   "source": "-- Identify and remove duplicate VIN entries.\n\nDELETE FROM carprices\nWHERE vin in\n(\n    select vin from\n    (\n        select \n                vin,\n                row_number() over(partition by vin order by year) as dup_vin\n            from \n                carprices\n    ) t\n    where dup_vin > 1\n)",
   "execution_count": null
  },
  {
   "cell_type": "code",
   "id": "42220b2c-0b89-4ee0-a5fc-8b5678dd9409",
   "metadata": {
    "language": "sql",
    "name": "_02_missing_values"
   },
   "outputs": [],
   "source": "-- Find rows with missing values in sellingprice or mmr.\n\nSELECT\n    *\nFROM\n    carprices\nWHERE\n    sellingprice is null or mmr is null",
   "execution_count": null
  }
 ]
}