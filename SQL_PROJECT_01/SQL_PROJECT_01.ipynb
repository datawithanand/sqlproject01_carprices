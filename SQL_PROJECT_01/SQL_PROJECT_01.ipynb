{
 "metadata": {
  "kernelspec": {
   "display_name": "Streamlit Notebook",
   "name": "streamlit"
  },
  "lastEditStatus": {
   "notebookId": "fe7lm5vek2dj4dux2pti",
   "authorId": "3158684672522",
   "authorName": "ANANDSURESH",
   "authorEmail": "anandsuresh05@gmail.com",
   "sessionId": "ac0f70e6-cde0-4300-91ab-d841b5a9d956",
   "lastEditTime": 1758681623030
  }
 },
 "nbformat_minor": 5,
 "nbformat": 4,
 "cells": [
  {
   "cell_type": "markdown",
   "id": "57befee4-1f19-488e-b520-20efd4f0f16f",
   "metadata": {
    "name": "_description",
    "collapsed": false
   },
   "source": "### PROJECT DESCRIPTION:\n\n1. Analyze automotive sales data to generate actionable business insights for sales, marketing, and operations. \n2. Use SQL to identify top-performing models, sellers, regions, and color combinations, while tracking revenue, profit margins, and seasonal trends. \n3. Focus on real-world scenarios like pricing strategy, inventory planning, and market demand analysis. \n4. The project simulates industry-level decision-making using clean, structured data."
  }
 ]
}