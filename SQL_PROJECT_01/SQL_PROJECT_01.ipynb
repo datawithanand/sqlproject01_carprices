{
 "metadata": {
  "kernelspec": {
   "display_name": "Streamlit Notebook",
   "name": "streamlit"
  },
  "lastEditStatus": {
   "notebookId": "fe7lm5vek2dj4dux2pti",
   "authorId": "3158684672522",
   "authorName": "ANANDSURESH",
   "authorEmail": "anandsuresh05@gmail.com",
   "sessionId": "c13ef8b5-3307-4a27-9f86-55c1531e6b58",
   "lastEditTime": 1758459839402
  }
 },
 "nbformat_minor": 5,
 "nbformat": 4,
 "cells": [
  {
   "cell_type": "markdown",
   "id": "de8f4906-75ee-4c64-b5b2-918a987e7c2b",
   "metadata": {
    "name": "project_description",
    "collapsed": false
   },
   "source": "### Automotive Sales Data Analysis Project\n\n- Analyze automotive sales data to understand car pricing, trends, and market behavior. \n- Use SQL to clean, aggregate, and explore the dataset, answering questions like average selling price by make/model, condition vs. price, regional sales trends, and date-based patterns. \n- Builds practical SQL skills while simulating real industry analysis."
  }
 ]
}