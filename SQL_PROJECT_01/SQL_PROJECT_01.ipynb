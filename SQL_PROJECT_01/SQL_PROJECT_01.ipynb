{
 "metadata": {
  "kernelspec": {
   "display_name": "Streamlit Notebook",
   "name": "streamlit"
  },
  "lastEditStatus": {
   "notebookId": "fe7lm5vek2dj4dux2pti",
   "authorId": "3158684672522",
   "authorName": "ANANDSURESH",
   "authorEmail": "anandsuresh05@gmail.com",
   "sessionId": "ac0f70e6-cde0-4300-91ab-d841b5a9d956",
   "lastEditTime": 1758682152167
  }
 },
 "nbformat_minor": 5,
 "nbformat": 4,
 "cells": [
  {
   "cell_type": "markdown",
   "id": "57befee4-1f19-488e-b520-20efd4f0f16f",
   "metadata": {
    "name": "_description",
    "collapsed": false
   },
   "source": "### PROJECT DESCRIPTION:\n\n1. Analyze automotive sales data to generate actionable business insights for sales, marketing, and operations. \n2. Use SQL to identify top-performing models, sellers, regions, and color combinations, while tracking revenue, profit margins, and seasonal trends. \n3. Focus on real-world scenarios like pricing strategy, inventory planning, and market demand analysis. \n4. The project simulates industry-level decision-making using clean, structured data."
  },
  {
   "cell_type": "code",
   "id": "b41dcf32-a601-4731-867d-a33c7692814a",
   "metadata": {
    "language": "sql",
    "name": "_sample"
   },
   "outputs": [],
   "source": "-- Identify the top 5 car models generating the highest revenue in the last quarter.",
   "execution_count": null
  },
  {
   "cell_type": "code",
   "id": "ff72b7a1-f91c-4ebf-81c3-685584eb2b9a",
   "metadata": {
    "language": "sql",
    "name": "_01_top5car_revenue"
   },
   "outputs": [],
   "source": "SELECT\n    model,\n    sum(sellingprice) as totalrevenue\nfrom\n    prices\nwhere month(saledate) IN (4,5,6)\ngroup by model\norder by totalrevenue desc limit 5",
   "execution_count": null
  }
 ]
}