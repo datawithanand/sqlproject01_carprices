{
 "metadata": {
  "kernelspec": {
   "display_name": "Streamlit Notebook",
   "name": "streamlit"
  },
  "lastEditStatus": {
   "notebookId": "fe7lm5vek2dj4dux2pti",
   "authorId": "3158684672522",
   "authorName": "ANANDSURESH",
   "authorEmail": "anandsuresh05@gmail.com",
   "sessionId": "def344b2-527b-4d75-90e5-95b3250d1088",
   "lastEditTime": 1758589717773
  }
 },
 "nbformat_minor": 5,
 "nbformat": 4,
 "cells": [
  {
   "cell_type": "markdown",
   "id": "de8f4906-75ee-4c64-b5b2-918a987e7c2b",
   "metadata": {
    "name": "project_description",
    "collapsed": false
   },
   "source": "### Automotive Sales Data Analysis Project\n\n- Analyze automotive sales data to understand car pricing, trends, and market behavior. \n- Use SQL to clean, aggregate, and explore the dataset, answering questions like average selling price by make/model, condition vs. price, regional sales trends, and date-based patterns. \n- Builds practical SQL skills while simulating real industry analysis."
  },
  {
   "cell_type": "markdown",
   "id": "863aaa8b-5982-4b7c-9353-30ec61dcef50",
   "metadata": {
    "name": "_Day01_22092025",
    "collapsed": false
   },
   "source": ""
  },
  {
   "cell_type": "code",
   "id": "01f69c60-0a2d-4101-8e33-71f7b39693be",
   "metadata": {
    "language": "sql",
    "name": "_01_avg_selling_price",
    "collapsed": false,
    "codeCollapsed": false
   },
   "outputs": [],
   "source": "-- Identify and remove duplicate VIN entries.\n\nDELETE FROM carprices\nWHERE vin in\n(\n    select vin from\n    (\n        select \n                vin,\n                row_number() over(partition by vin order by year) as dup_vin\n            from \n                carprices\n    ) t\n    where dup_vin > 1\n)",
   "execution_count": null
  },
  {
   "cell_type": "code",
   "id": "42220b2c-0b89-4ee0-a5fc-8b5678dd9409",
   "metadata": {
    "language": "sql",
    "name": "_02_missing_values"
   },
   "outputs": [],
   "source": "-- Find rows with missing values in sellingprice or mmr.\n\nSELECT\n    *\nFROM\n    carprices\nWHERE\n    sellingprice is null or mmr is null",
   "execution_count": null
  },
  {
   "cell_type": "code",
   "id": "db286273-7831-4a2f-a014-15bec8081d9f",
   "metadata": {
    "language": "sql",
    "name": "_03_replace_nulls"
   },
   "outputs": [],
   "source": "-- Replace null values in interior with “Unknown.”\n\nSELECT\n    year,\n    make,\n    model,\n    vin,\n    coalesce(interior,'Unknown')\nFROM \n    carprices",
   "execution_count": null
  },
  {
   "cell_type": "code",
   "id": "95d96996-b3f3-4931-9b16-29b759dea3c0",
   "metadata": {
    "language": "sql",
    "name": "_04_standard_make_col"
   },
   "outputs": [],
   "source": "-- Standardize make column (e.g., unify “KIA” and “Kia”).\n\nUPDATE \n    carprices\nSET \n    make = 'KIA'\nWHERE \n    make ILIKE 'Kia';",
   "execution_count": null
  },
  {
   "cell_type": "code",
   "id": "eb58d618-be26-40b3-bc09-892e2763f5bb",
   "metadata": {
    "language": "sql",
    "name": "_05_trim_spaces"
   },
   "outputs": [],
   "source": "-- Trim extra spaces from model and trim columns.\n\nSELECT\n    year,\n    make,\n    trim(model) AS model,\n    trim(\"trim\") AS trim,\n    vin\nFROM \n    carprices",
   "execution_count": null
  },
  {
   "cell_type": "code",
   "id": "d5941850-61d9-4ba6-9e8f-4ebd228bec23",
   "metadata": {
    "language": "sql",
    "name": "_copy_table",
    "collapsed": false,
    "codeCollapsed": false
   },
   "outputs": [],
   "source": "--  Creating copy\n\nCREATE TABLE carprices_copy CLONE carprices;\n\n/*\nCREATE TABLE carprices_copy CLONE carprices;\n\nALTER TABLE carprices_copy \nADD COLUMN saledate_date DATE;\n\nUPDATE carprices_copy\nSET saledate_date = TO_DATE(\n  TRY_TO_TIMESTAMP_LTZ(\n    saledate, \n    'DY MON DD YYYY HH24:MI:SS \"GMT\"TZHTZM (TZD)'\n  )\n);\n\nALTER TABLE carprices_copy \nDROP COLUMN saledate;\n\nALTER TABLE carprices_copy \nRENAME COLUMN saledate_date TO saledate;\n*/",
   "execution_count": null
  },
  {
   "cell_type": "code",
   "id": "9a8f5fcf-55c4-4ee2-8bbd-ace97a4de24f",
   "metadata": {
    "language": "sql",
    "name": "_06_date_format"
   },
   "outputs": [],
   "source": "-- Convert saledate to proper DATE format.\n-- Current sample date format: Thu Feb 12 2015 01:30:00 GMT-0800 (PST)\n\nUPDATE carprices_copy\nSET saledate = TO_DATE(\n  TRY_TO_TIMESTAMP_LTZ(\n    saledate, \n    'DY MON DD YYYY HH24:MI:SS \"GMT\"TZHTZM (TZD)'\n  )\n);",
   "execution_count": null
  },
  {
   "cell_type": "code",
   "id": "7a5a25a5-a822-4d1d-9cb3-9135d7c8c016",
   "metadata": {
    "language": "sql",
    "name": "_07_extract_month_year"
   },
   "outputs": [],
   "source": "-- Extract month and year from saledate for reporting.\n\nSELECT\n    year,\n    make,\n    model,\n    vin,\n    extract(month from saledate) as sale_month,\n    extract(year from saledate) as sale_year\nFROM\n    carprices_copy",
   "execution_count": null
  },
  {
   "cell_type": "code",
   "id": "4510809a-08b1-4ab3-8821-d4acc6bffd50",
   "metadata": {
    "language": "sql",
    "name": "_08_greater_year"
   },
   "outputs": [],
   "source": "-- Flag cars with year greater than the current year.\n\nSELECT \n    * \nFROM \n    carprices_copy\nWHERE\n    year > extract(year from current_date())",
   "execution_count": null
  },
  {
   "cell_type": "code",
   "id": "b05cfb97-66fc-419f-a1b1-5ad96beaa75d",
   "metadata": {
    "language": "sql",
    "name": "_09_negative_odometer"
   },
   "outputs": [],
   "source": "-- Correct negative values in odometer.\n\nSELECT\n    year,\n    make,\n    model,\n    vin,\n    abs(odometer) as odometer\nFROM\n    carprices",
   "execution_count": null
  },
  {
   "cell_type": "code",
   "id": "4679c8ac-cd44-4730-b901-e25a8a035337",
   "metadata": {
    "language": "sql",
    "name": "_10_standard_color"
   },
   "outputs": [],
   "source": "-- Standardize color names (e.g., “Grey” → “Gray”).\n\nUPDATE\n    carprices_copy\nSET\n    color = 'Gray'\nWHERE\n    color ILIKE 'Grey'",
   "execution_count": null
  },
  {
   "cell_type": "markdown",
   "id": "9404ec24-f02d-45e4-9d8f-d50724a44762",
   "metadata": {
    "name": "_Day02_23092025",
    "collapsed": false
   },
   "source": ""
  },
  {
   "cell_type": "code",
   "id": "95950f00-0003-4097-8a77-6931c37c927b",
   "metadata": {
    "language": "sql",
    "name": "_11_inconsistent_names"
   },
   "outputs": [],
   "source": "-- Detect and fix inconsistent transmission entries (e.g., “Automatic” vs “auto”).\n\nUPDATE carprices_copy\nSET transmission = 'Automatic'\nWHERE transmission ILIKE 'auto'",
   "execution_count": null
  },
  {
   "cell_type": "code",
   "id": "bcab10f8-3693-4d49-9188-c793fa5f5ea3",
   "metadata": {
    "language": "sql",
    "name": "_12_invalid_state"
   },
   "outputs": [],
   "source": "-- Replace invalid state codes with correct postal abbreviations.\n\nUPDATE carprices_copy\nSET state = 'Unknown'\nwhere state ILIKE '3vwd%'",
   "execution_count": null
  },
  {
   "cell_type": "code",
   "id": "5ba90110-12c2-42d1-8d38-fe005832b6a1",
   "metadata": {
    "language": "sql",
    "name": "_13_invalid_vin"
   },
   "outputs": [],
   "source": "-- Remove rows where vin is null or invalid.\n\nDELETE FROM carprices_copy\nWHERE \n    vin is null OR\n    vin = '' OR\n    LENGTH(vin) <> 17;",
   "execution_count": null
  },
  {
   "cell_type": "code",
   "id": "7eba997f-8249-42e3-aca0-9755862643c9",
   "metadata": {
    "language": "sql",
    "name": "_14_outlier_sellingprice"
   },
   "outputs": [],
   "source": "-- Detect outliers in sellingprice using statistical methods.\n\n\n",
   "execution_count": null
  },
  {
   "cell_type": "code",
   "id": "81034217-e8cc-4312-8fe4-14650af4b6da",
   "metadata": {
    "language": "sql",
    "name": "_15_outlier_mmr"
   },
   "outputs": [],
   "source": "-- Detect outliers in mmr using statistical methods.\n\n\n",
   "execution_count": null
  },
  {
   "cell_type": "code",
   "id": "e406c7f5-cb10-4ee7-9fbd-2a738b4a262f",
   "metadata": {
    "language": "sql",
    "name": "cell5"
   },
   "outputs": [],
   "source": "-- Identify rows where sellingprice is less than 0.\n\nselect * from carprices_copy where sellingprice < 0",
   "execution_count": null
  },
  {
   "cell_type": "code",
   "id": "7331bb07-a214-42e4-bb36-a4011a293e45",
   "metadata": {
    "language": "sql",
    "name": "cell4"
   },
   "outputs": [],
   "source": "-- Replace empty strings in trim with “Standard.”\n\nUPDATE carprices_copy\nSET \"trim\" = 'Standard'\nWHERE \"trim\" = '';",
   "execution_count": null
  },
  {
   "cell_type": "code",
   "id": "362c082e-f04d-4583-9e57-25267bc2aa0f",
   "metadata": {
    "language": "sql",
    "name": "cell3"
   },
   "outputs": [],
   "source": "-- Standardize body types (e.g., “SUV” vs “Sport Utility”).\n\nUPDATE carprices_copy\nSET body = 'Sport Utility'\nWHERE body ILIKE 'suv'",
   "execution_count": null
  },
  {
   "cell_type": "code",
   "id": "548ec245-62c1-4693-aab1-afb271ef0d29",
   "metadata": {
    "language": "python",
    "name": "cell10"
   },
   "outputs": [],
   "source": "",
   "execution_count": null
  },
  {
   "cell_type": "code",
   "id": "b04bc185-aa2b-453a-8df8-b59e2650085b",
   "metadata": {
    "language": "sql",
    "name": "cell2"
   },
   "outputs": [],
   "source": "-- Merge duplicate sellers with slightly different names (e.g., “Kia Motors America Inc” vs “Kia Motors”).\n\nupdate carprices_copy\nSET seller = 'Kia Motors America Inc'\nWHERE seller ILIKE 'Kia Motors'",
   "execution_count": null
  },
  {
   "cell_type": "code",
   "id": "85f9e095-2a59-4e23-bb66-551d69138228",
   "metadata": {
    "language": "sql",
    "name": "cell1"
   },
   "outputs": [],
   "source": "-- Fill missing condition values with “Unknown.”\n\nUPDATE carprices_copy\nSET condition = 'Unknown'\nWHERE condition is null or condition = ''",
   "execution_count": null
  }
 ]
}