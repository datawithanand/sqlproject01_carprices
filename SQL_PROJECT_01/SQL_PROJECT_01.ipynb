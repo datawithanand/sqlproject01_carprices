{
 "metadata": {
  "kernelspec": {
   "display_name": "Streamlit Notebook",
   "name": "streamlit"
  },
  "lastEditStatus": {
   "notebookId": "hxbgukoyftoa75icbwz2",
   "authorId": "3158684672522",
   "authorName": "ANANDSURESH",
   "authorEmail": "anandsuresh05@gmail.com",
   "sessionId": "c13ef8b5-3307-4a27-9f86-55c1531e6b58",
   "lastEditTime": 1758459468161
  }
 },
 "nbformat_minor": 5,
 "nbformat": 4,
 "cells": []
}